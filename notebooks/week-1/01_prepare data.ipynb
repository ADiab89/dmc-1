{
 "cells": [
  {
   "cell_type": "code",
   "execution_count": 1,
   "metadata": {
    "collapsed": false
   },
   "outputs": [],
   "source": [
    "from __future__ import print_function\n",
    "import numpy as np\n",
    "import tensorflow as tf\n",
    "from six.moves import cPickle as pickle\n",
    "from six.moves import range\n",
    "import matplotlib.pyplot as plt\n",
    "# import matplotlib\n",
    "import os\n",
    "import sys\n",
    "import tarfile\n",
    "from IPython.display import display, Image\n",
    "from scipy import ndimage\n",
    "from scipy import misc\n",
    "from six.moves.urllib.request import urlretrieve\n",
    "\n",
    "from matplotlib.pyplot import imshow"
   ]
  },
  {
   "cell_type": "code",
   "execution_count": 2,
   "metadata": {
    "collapsed": false
   },
   "outputs": [],
   "source": [
    "np.random.seed(3)\n",
    "\n",
    "num_classes = 2\n",
    "folders = ['images/faces', 'images/not']"
   ]
  },
  {
   "cell_type": "code",
   "execution_count": 3,
   "metadata": {
    "collapsed": false
   },
   "outputs": [
    {
     "name": "stdout",
     "output_type": "stream",
     "text": [
      "images/not/val_983.JPEG\n"
     ]
    },
    {
     "data": {
      "image/jpeg": "[encoded data removed]",
      "text/plain": [
       "<IPython.core.display.Image object>"
      ]
     },
     "execution_count": 3,
     "metadata": {},
     "output_type": "execute_result"
    }
   ],
   "source": [
    "im_path = folders[1] + \"/\" + os.listdir(folders[1])[0]\n",
    "print(im_path)\n",
    "Image(im_path)"
   ]
  },
  {
   "cell_type": "code",
   "execution_count": 4,
   "metadata": {
    "collapsed": false
   },
   "outputs": [
    {
     "name": "stdout",
     "output_type": "stream",
     "text": [
      "Pickling images/faces.pickle.\n",
      "Full dataset tensor: (1000, 64, 64, 1)\n",
      "Mean: 3.42261e-11\n",
      "Standard deviation: 0.5\n",
      "Pickling images/not.pickle.\n",
      "Full dataset tensor: (1000, 64, 64, 1)\n",
      "Mean: -1.67987e-10\n",
      "Standard deviation: 0.5\n"
     ]
    }
   ],
   "source": [
    "# %matplotlib inline\n",
    "\n",
    "image_size = 64  # Pixel width and height.\n",
    "pixel_depth = 255.0  # Number of levels per pixel.\n",
    "image_dim = 1\n",
    "\n",
    "def load_label(folder, min_num_images):\n",
    "    \n",
    "    #get all images\n",
    "    image_files = os.listdir(folder)\n",
    "    \n",
    "    first = True\n",
    "    \n",
    "    image_index = 0\n",
    "    \n",
    "    for image in os.listdir(folder)[:1000]:\n",
    "        image_file = os.path.join(folder, image)\n",
    "\n",
    "        try:\n",
    "            images = []\n",
    "            \n",
    "            # load image\n",
    "            image_data = ndimage.imread(image_file).astype(float)\n",
    "#             print(len(image_data.shape))\n",
    "            \n",
    "            if len(image_data.shape) > 2:\n",
    "                image_data = image_data[:,:,0]\n",
    "            \n",
    "            # resize to target resolution if necessary\n",
    "            if image_data.shape[0] != image_size:\n",
    "                image_data2 = misc.imresize(image_data2, (image_size, image_size), interp='nearest')\n",
    "            \n",
    "            # normalize\n",
    "            image_data = (image_data - image_data.mean()) / image_data.std() / 2\n",
    "            \n",
    "            # add contrast\n",
    "            \n",
    "            images.append(image_data)\n",
    "            \n",
    "            # create new data through transformations\n",
    "#             images.append(np.flipud(image_data))\n",
    "#             images.append(np.fliplr(image_data))\n",
    "#             images.append(np.rot90(image_data, 1))\n",
    "#             images.append(np.rot90(image_data, 2))\n",
    "#             images.append(np.rot90(image_data, 3))\n",
    "\n",
    "            for img in images:\n",
    "                image_data_format = np.ndarray((1,image_size, image_size, image_dim), dtype=np.float32)\n",
    "                image_data_format[0,:,:,0] = img[:,:]\n",
    "            \n",
    "                if first:\n",
    "                    dataset = image_data_format\n",
    "                    first = False\n",
    "                else:\n",
    "                    dataset = np.concatenate((dataset,image_data_format), axis=0)\n",
    "            \n",
    "            image_index += 1\n",
    "            \n",
    "        except IOError as e:\n",
    "            print('Could not read:', image_file, ':', e, '- it\\'s ok, skipping.')\n",
    "            \n",
    "\n",
    "    print('Full dataset tensor:', dataset.shape)\n",
    "    print('Mean:', np.mean(dataset))\n",
    "    print('Standard deviation:', np.std(dataset))\n",
    "    \n",
    "    return dataset\n",
    "        \n",
    "def maybe_pickle(data_folders, min_num_images_per_class, force=False):\n",
    "    dataset_names = []\n",
    "    \n",
    "    for folder in data_folders:\n",
    "        set_filename = folder + '.pickle'\n",
    "        dataset_names.append(set_filename)\n",
    "        if os.path.exists(set_filename) and not force:\n",
    "            # You may override by setting force=True.\n",
    "            print('%s already present - Skipping pickling.' % set_filename)\n",
    "        else:\n",
    "            print('Pickling %s.' % set_filename)\n",
    "            dataset = load_label(folder, min_num_images_per_class)\n",
    "            try:\n",
    "                with open(set_filename, 'wb') as f:\n",
    "                    pickle.dump(dataset, f, pickle.HIGHEST_PROTOCOL)\n",
    "            except Exception as e:\n",
    "                print('Unable to save data to', set_filename, ':', e)\n",
    "\n",
    "    return dataset_names\n",
    "\n",
    "datasets = maybe_pickle(folders, 50, True)"
   ]
  },
  {
   "cell_type": "code",
   "execution_count": 5,
   "metadata": {
    "collapsed": false
   },
   "outputs": [
    {
     "name": "stdout",
     "output_type": "stream",
     "text": [
      "(64, 64)\n",
      "[[-0.46417019 -0.46417019 -0.46417019 ..., -0.31616762 -0.31616762\n",
      "  -0.31616762]\n",
      " [-0.46417019 -0.46417019 -0.46417019 ..., -0.31616762 -0.31616762\n",
      "  -0.31616762]\n",
      " [-0.46417019 -0.46417019 -0.46417019 ..., -0.34576812 -0.34576812\n",
      "  -0.34576812]\n",
      " ..., \n",
      " [ 0.15744063  0.15744063  0.15744063 ...,  0.45344579  0.45344579\n",
      "   0.45344579]\n",
      " [ 0.15744063  0.15744063  0.15744063 ...,  0.45344579  0.45344579\n",
      "   0.45344579]\n",
      " [ 0.15744063  0.15744063  0.15744063 ...,  0.45344579  0.45344579\n",
      "   0.45344579]]\n"
     ]
    },
    {
     "data": {
      "text/plain": [
       "<matplotlib.image.AxesImage at 0x7f277f8df2d0>"
      ]
     },
     "execution_count": 5,
     "metadata": {},
     "output_type": "execute_result"
    },
    {
     "data": {
      "image/png": "[encoded data removed]",
      "text/plain": [
       "<matplotlib.figure.Figure at 0x7f277fe77b90>"
      ]
     },
     "metadata": {},
     "output_type": "display_data"
    }
   ],
   "source": [
    "%matplotlib inline\n",
    "\n",
    "def showImage(pickle_files, setNum, imgNum):\n",
    "    with open(pickle_files[setNum], 'rb') as f:\n",
    "        cat_set = pickle.load(f)\n",
    "#         print (len(cat_set))\n",
    "    return cat_set[imgNum]\n",
    "\n",
    "\n",
    "img = showImage(datasets, 1, 1)[:,:,0]\n",
    "\n",
    "print(img.shape)\n",
    "print (img)\n",
    "imshow(img, cmap = plt.get_cmap('gray'), vmin = -1, vmax = 1,  interpolation='nearest')"
   ]
  },
  {
   "cell_type": "code",
   "execution_count": 6,
   "metadata": {
    "collapsed": false
   },
   "outputs": [
    {
     "name": "stdout",
     "output_type": "stream",
     "text": [
      "Training: (800, 64, 64, 1) (800,)\n",
      "Validation: (200, 64, 64, 1) (200,)\n",
      "Testing: (200, 64, 64, 1) (200,)\n"
     ]
    }
   ],
   "source": [
    "def make_arrays(nb_rows, img_size):\n",
    "    if nb_rows:\n",
    "        dataset = np.ndarray((nb_rows, img_size, img_size, image_dim), dtype=np.float32)\n",
    "#     dataset = np.ndarray((nb_rows, img_size, img_size), dtype=np.float32)\n",
    "        labels = np.ndarray(nb_rows, dtype=np.int32)\n",
    "    else:\n",
    "        dataset, labels = None, None\n",
    "    return dataset, labels\n",
    "\n",
    "def merge_datasets(pickle_files, train_size, valid_size, test_size):\n",
    "    num_classes = len(pickle_files)\n",
    "    valid_dataset, valid_labels = make_arrays(valid_size, image_size)\n",
    "    train_dataset, train_labels = make_arrays(train_size, image_size)\n",
    "    test_dataset, test_labels = make_arrays(test_size, image_size)\n",
    "    val_size_per_class = valid_size // num_classes\n",
    "    train_size_per_class = train_size // num_classes\n",
    "    test_size_per_class = test_size // num_classes\n",
    "    \n",
    "    start_val, start_train, start_test = 0, 0, 0\n",
    "    end_val, end_train, end_test = val_size_per_class, train_size_per_class, test_size_per_class\n",
    "    #   end_l = val_size_per_class + train_size_per_class + test_size_per_class\n",
    "\n",
    "    for label, pickle_file in enumerate(pickle_files):\n",
    "        try:\n",
    "            with open(pickle_file, 'rb') as f:\n",
    "                cat_set = pickle.load(f)\n",
    "                # let's shuffle the letters to have random validation and training set\n",
    "                np.random.shuffle(cat_set)\n",
    "\n",
    "                valid_cat = cat_set[:val_size_per_class, :, :, :]\n",
    "                valid_dataset[start_val:end_val, :, :, :] = valid_cat\n",
    "                valid_labels[start_val:end_val] = label\n",
    "                start_val += val_size_per_class\n",
    "                end_val += val_size_per_class\n",
    "\n",
    "                train_cat = cat_set[val_size_per_class:val_size_per_class + train_size_per_class, :, :, :]\n",
    "                train_dataset[start_train:end_train, :, :, :] = train_cat\n",
    "                train_labels[start_train:end_train] = label\n",
    "                start_train += train_size_per_class\n",
    "                end_train += train_size_per_class\n",
    "\n",
    "                test_cat = cat_set[val_size_per_class + train_size_per_class:val_size_per_class + train_size_per_class + test_size_per_class, :, :, :]\n",
    "                test_dataset[start_test:end_test, :, :, :] = test_cat\n",
    "                test_labels[start_test:end_test] = label\n",
    "                start_test += test_size_per_class\n",
    "                end_test += test_size_per_class\n",
    "\n",
    "        except Exception as e:\n",
    "            print('Unable to process data from', pickle_file, ':', e)\n",
    "            raise\n",
    "    \n",
    "    return valid_dataset, valid_labels, train_dataset, train_labels, test_dataset, test_labels\n",
    "            \n",
    "            \n",
    "train_size = 800\n",
    "valid_size = 200\n",
    "test_size = 200\n",
    "\n",
    "valid_dataset, valid_labels, train_dataset, train_labels, test_dataset, test_labels = merge_datasets(\n",
    "  datasets, train_size, valid_size, test_size)\n",
    "\n",
    "print('Training:', train_dataset.shape, train_labels.shape)\n",
    "print('Validation:', valid_dataset.shape, valid_labels.shape)\n",
    "print('Testing:', test_dataset.shape, test_labels.shape)"
   ]
  },
  {
   "cell_type": "code",
   "execution_count": 7,
   "metadata": {
    "collapsed": false
   },
   "outputs": [
    {
     "name": "stdout",
     "output_type": "stream",
     "text": [
      "[0 0 0 0 0 0 0 0 0 0 0 0 0 0 0 0 0 0 0 0 0 0 0 0 0 0 0 0 0 0 0 0 0 0 0 0 0\n",
      " 0 0 0 0 0 0 0 0 0 0 0 0 0 0 0 0 0 0 0 0 0 0 0 0 0 0 0 0 0 0 0 0 0 0 0 0 0\n",
      " 0 0 0 0 0 0 0 0 0 0 0 0 0 0 0 0 0 0 0 0 0 0 0 0 0 0 0 0 0 0 0 0 0 0 0 0 0\n",
      " 0 0 0 0 0 0 0 0 0 0 0 0 0 0 0 0 0 0 0 0 0 0 0 0 0 0 0 0 0 0 0 0 0 0 0 0 0\n",
      " 0 0 0 0 0 0 0 0 0 0 0 0 0 0 0 0 0 0 0 0 0 0 0 0 0 0 0 0 0 0 0 0 0 0 0 0 0\n",
      " 0 0 0 0 0 0 0 0 0 0 0 0 0 0 0 0 0 0 0 0 0 0 0 0 0 0 0 0 0 0 0 0 0 0 0 0 0\n",
      " 0 0 0 0 0 0 0 0 0 0 0 0 0 0 0 0 0 0 0 0 0 0 0 0 0 0 0 0 0 0 0 0 0 0 0 0 0\n",
      " 0 0 0 0 0 0 0 0 0 0 0 0 0 0 0 0 0 0 0 0 0 0 0 0 0 0 0 0 0 0 0 0 0 0 0 0 0\n",
      " 0 0 0 0 0 0 0 0 0 0 0 0 0 0 0 0 0 0 0 0 0 0 0 0 0 0 0 0 0 0 0 0 0 0 0 0 0\n",
      " 0 0 0 0 0 0 0 0 0 0 0 0 0 0 0 0 0 0 0 0 0 0 0 0 0 0 0 0 0 0 0 0 0 0 0 0 0\n",
      " 0 0 0 0 0 0 0 0 0 0 0 0 0 0 0 0 0 0 0 0 0 0 0 0 0 0 0 0 0 0 1 1 1 1 1 1 1\n",
      " 1 1 1 1 1 1 1 1 1 1 1 1 1 1 1 1 1 1 1 1 1 1 1 1 1 1 1 1 1 1 1 1 1 1 1 1 1\n",
      " 1 1 1 1 1 1 1 1 1 1 1 1 1 1 1 1 1 1 1 1 1 1 1 1 1 1 1 1 1 1 1 1 1 1 1 1 1\n",
      " 1 1 1 1 1 1 1 1 1 1 1 1 1 1 1 1 1 1 1 1 1 1 1 1 1 1 1 1 1 1 1 1 1 1 1 1 1\n",
      " 1 1 1 1 1 1 1 1 1 1 1 1 1 1 1 1 1 1 1 1 1 1 1 1 1 1 1 1 1 1 1 1 1 1 1 1 1\n",
      " 1 1 1 1 1 1 1 1 1 1 1 1 1 1 1 1 1 1 1 1 1 1 1 1 1 1 1 1 1 1 1 1 1 1 1 1 1\n",
      " 1 1 1 1 1 1 1 1 1 1 1 1 1 1 1 1 1 1 1 1 1 1 1 1 1 1 1 1 1 1 1 1 1 1 1 1 1\n",
      " 1 1 1 1 1 1 1 1 1 1 1 1 1 1 1 1 1 1 1 1 1 1 1 1 1 1 1 1 1 1 1 1 1 1 1 1 1\n",
      " 1 1 1 1 1 1 1 1 1 1 1 1 1 1 1 1 1 1 1 1 1 1 1 1 1 1 1 1 1 1 1 1 1 1 1 1 1\n",
      " 1 1 1 1 1 1 1 1 1 1 1 1 1 1 1 1 1 1 1 1 1 1 1 1 1 1 1 1 1 1 1 1 1 1 1 1 1\n",
      " 1 1 1 1 1 1 1 1 1 1 1 1 1 1 1 1 1 1 1 1 1 1 1 1 1 1 1 1 1 1 1 1 1 1 1 1 1\n",
      " 1 1 1 1 1 1 1 1 1 1 1 1 1 1 1 1 1 1 1 1 1 1 1]\n"
     ]
    }
   ],
   "source": [
    "print (train_labels)"
   ]
  },
  {
   "cell_type": "code",
   "execution_count": 8,
   "metadata": {
    "collapsed": true
   },
   "outputs": [],
   "source": [
    "def randomize(dataset, labels):\n",
    "    \n",
    "    permutation = np.random.permutation(labels.shape[0])\n",
    "    shuffled_dataset = dataset[permutation,:,:]\n",
    "    shuffled_labels = labels[permutation]\n",
    "    return shuffled_dataset, shuffled_labels\n",
    "\n",
    "train_dataset, train_labels = randomize(train_dataset, train_labels)\n",
    "test_dataset, test_labels = randomize(test_dataset, test_labels)\n",
    "valid_dataset, valid_labels = randomize(valid_dataset, valid_labels)"
   ]
  },
  {
   "cell_type": "code",
   "execution_count": 9,
   "metadata": {
    "collapsed": true
   },
   "outputs": [],
   "source": [
    "pickle_file = 'images.pickle'\n",
    "\n",
    "try:\n",
    "    f = open(pickle_file, 'wb')\n",
    "    save = {\n",
    "        'train_dataset': train_dataset,\n",
    "        'train_labels': train_labels,\n",
    "        'valid_dataset': valid_dataset,\n",
    "        'valid_labels': valid_labels,\n",
    "        'test_dataset': test_dataset,\n",
    "        'test_labels': test_labels,\n",
    "    }\n",
    "    pickle.dump(save, f, pickle.HIGHEST_PROTOCOL)\n",
    "    f.close()\n",
    "except Exception as e:\n",
    "    print('Unable to save data to', pickle_file, ':', e)\n",
    "    raise"
   ]
  },
  {
   "cell_type": "code",
   "execution_count": 10,
   "metadata": {
    "collapsed": false
   },
   "outputs": [
    {
     "name": "stdout",
     "output_type": "stream",
     "text": [
      "Compressed pickle size: 19666042\n"
     ]
    }
   ],
   "source": [
    "statinfo = os.stat(pickle_file)\n",
    "print('Compressed pickle size:', statinfo.st_size)"
   ]
  },
  {
   "cell_type": "code",
   "execution_count": null,
   "metadata": {
    "collapsed": true
   },
   "outputs": [],
   "source": []
  }
 ],
 "metadata": {
  "kernelspec": {
   "display_name": "Python 2",
   "language": "python",
   "name": "python2"
  },
  "language_info": {
   "codemirror_mode": {
    "name": "ipython",
    "version": 2
   },
   "file_extension": ".py",
   "mimetype": "text/x-python",
   "name": "python",
   "nbconvert_exporter": "python",
   "pygments_lexer": "ipython2",
   "version": "2.7.6"
  }
 },
 "nbformat": 4,
 "nbformat_minor": 0
}
